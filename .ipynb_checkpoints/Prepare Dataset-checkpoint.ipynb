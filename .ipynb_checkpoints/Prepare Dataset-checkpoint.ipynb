{
 "cells": [
  {
   "cell_type": "markdown",
   "id": "1fea0e20-99b6-410f-98c4-855ed765c6b5",
   "metadata": {},
   "source": [
    "# Preparing Commonvoice Dataset\n",
    "Notebook for the conversion of commonvoice dataset in wav and json files for training."
   ]
  },
  {
   "cell_type": "code",
   "execution_count": 5,
   "id": "c2e964f0-9493-436f-aca8-a40da58afc40",
   "metadata": {
    "tags": []
   },
   "outputs": [],
   "source": [
    "from tqdm.notebook import tqdm\n",
    "from time import sleep\n",
    "import json\n",
    "import csv\n",
    "from pydub import AudioSegment"
   ]
  },
  {
   "cell_type": "markdown",
   "id": "e86d3f9e-c84e-48cf-828e-ff9d95a60aad",
   "metadata": {},
   "source": [
    "### Arguments\n",
    "* `file_path` - path to one of the .tsv files found in cv-corpus\n",
    "* `split_percent` - percentage of clips to put into test.json instead of train.json\n",
    "* `convert` - tells the notebook whether to convert mp3 to wav\n",
    "* `verbose` - increases output verbosity"
   ]
  },
  {
   "cell_type": "code",
   "execution_count": 8,
   "id": "ceff6acf-7056-45b5-ae65-04051b08770b",
   "metadata": {},
   "outputs": [],
   "source": [
    "file_path = 'F:/cv-corpus-11.0-2022-09-21/en/train.tsv'\n",
    "split_percent = 10\n",
    "convert = True\n",
    "verbose = True"
   ]
  },
  {
   "cell_type": "code",
   "execution_count": 9,
   "id": "3d3910ab",
   "metadata": {
    "scrolled": true
   },
   "outputs": [
    {
     "name": "stdout",
     "output_type": "stream",
     "text": [
      "Number of audio samples: 948737\n"
     ]
    }
   ],
   "source": [
    "data = []\n",
    "directory = file_path.rpartition('/')[0]\n",
    "\n",
    "with open(file_path, encoding='utf8') as f:\n",
    "    length = sum(1 for line in f)\n",
    "    \n",
    "if verbose:\n",
    "    print('Number of audio samples:', length)"
   ]
  },
  {
   "cell_type": "code",
   "execution_count": null,
   "id": "f9603385-4825-4d6e-96e2-d304a85ca328",
   "metadata": {},
   "outputs": [],
   "source": [
    "with open(file_path, newline='', encoding='utf8') as tsvfile:\n",
    "    reader = csv.DictReader(tsvfile, delimiter='\\t')\n",
    "    index = 1\n",
    "    if (convert and verbose):\n",
    "        print(\"Converting audio samples from mp3 to wav\")\n",
    "    for row, _ in zip(reader, tqdm(range(length))):\n",
    "        file_name = row['path']\n",
    "        new_file_name = file_name.rpartition('.')[0] + \".wav\"\n",
    "        text = row['sentence']\n",
    "        data.append"
   ]
  }
 ],
 "metadata": {
  "kernelspec": {
   "display_name": "Python 3 (ipykernel)",
   "language": "python",
   "name": "python3"
  },
  "language_info": {
   "codemirror_mode": {
    "name": "ipython",
    "version": 3
   },
   "file_extension": ".py",
   "mimetype": "text/x-python",
   "name": "python",
   "nbconvert_exporter": "python",
   "pygments_lexer": "ipython3",
   "version": "3.10.5"
  },
  "widgets": {
   "application/vnd.jupyter.widget-state+json": {
    "state": {},
    "version_major": 2,
    "version_minor": 0
   }
  }
 },
 "nbformat": 4,
 "nbformat_minor": 5
}
