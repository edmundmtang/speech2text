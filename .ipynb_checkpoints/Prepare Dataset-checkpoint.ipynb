{
 "cells": [
  {
   "cell_type": "markdown",
   "id": "1fea0e20-99b6-410f-98c4-855ed765c6b5",
   "metadata": {
    "tags": []
   },
   "source": [
    "# Preparing Commonvoice Dataset\n",
    "Notebook for the conversion of commonvoice dataset in wav and json files for training.\n",
    "\n",
    "Based on [A-Hackers-AI-Voice_Assistant](https://github.com/LearnedVector/A-Hackers-AI-Voice-Assistant)"
   ]
  },
  {
   "cell_type": "code",
   "execution_count": 1,
   "id": "c2e964f0-9493-436f-aca8-a40da58afc40",
   "metadata": {
    "tags": []
   },
   "outputs": [],
   "source": [
    "from tqdm.notebook import tqdm\n",
    "import json\n",
    "import csv\n",
    "from pydub import AudioSegment\n",
    "import random"
   ]
  },
  {
   "cell_type": "markdown",
   "id": "e86d3f9e-c84e-48cf-828e-ff9d95a60aad",
   "metadata": {
    "tags": []
   },
   "source": [
    "### Arguments\n",
    "* `file_path` - path to one of the .tsv files found in cv-corpus\n",
    "* `split_percent` - percentage of clips to put into test.json instead of train.json\n",
    "* `convert` - tells the notebook whether to convert mp3 to wav\n",
    "* `verbose` - increases output verbosity"
   ]
  },
  {
   "cell_type": "code",
   "execution_count": 2,
   "id": "ceff6acf-7056-45b5-ae65-04051b08770b",
   "metadata": {},
   "outputs": [],
   "source": [
    "file_path = 'E:/cv-corpus-11.0-2022-09-21/en/train.tsv'\n",
    "save_path = 'F:/cv-corpus-11.0-2022-09-21/en'\n",
    "convert = True\n",
    "verbose = True\n",
    "split_percent = 10"
   ]
  },
  {
   "cell_type": "code",
   "execution_count": 3,
   "id": "3d3910ab",
   "metadata": {
    "scrolled": true
   },
   "outputs": [
    {
     "name": "stdout",
     "output_type": "stream",
     "text": [
      "Number of audio samples: 948737\n"
     ]
    }
   ],
   "source": [
    "data = []\n",
    "directory = file_path.rpartition('/')[0]\n",
    "\n",
    "with open(file_path, encoding='utf8') as f:\n",
    "    length = sum(1 for line in f)\n",
    "    \n",
    "if verbose:\n",
    "    print('Number of audio samples:', length)"
   ]
  },
  {
   "cell_type": "markdown",
   "id": "5a209db9-4638-46ca-9154-266afe43c272",
   "metadata": {
    "tags": []
   },
   "source": [
    "### Convert mp3 to wav\n",
    "Files from the `clips` folder are taken and converted to wav format and saved in the `save_path`."
   ]
  },
  {
   "cell_type": "code",
   "execution_count": 4,
   "id": "f9603385-4825-4d6e-96e2-d304a85ca328",
   "metadata": {},
   "outputs": [
    {
     "name": "stdout",
     "output_type": "stream",
     "text": [
      "Converting audio samples from mp3 to wav\n"
     ]
    },
    {
     "data": {
      "application/json": {
       "ascii": false,
       "bar_format": null,
       "colour": null,
       "elapsed": 0.0714271068572998,
       "initial": 0,
       "n": 0,
       "ncols": null,
       "nrows": 39,
       "postfix": null,
       "prefix": "",
       "rate": null,
       "total": 948737,
       "unit": "it",
       "unit_divisor": 1000,
       "unit_scale": false
      },
      "application/vnd.jupyter.widget-view+json": {
       "model_id": "f93d5ec94d784d61816f664dfb2530ea",
       "version_major": 2,
       "version_minor": 0
      },
      "text/plain": [
       "  0%|          | 0/948737 [00:00<?, ?it/s]"
      ]
     },
     "metadata": {},
     "output_type": "display_data"
    }
   ],
   "source": [
    "with open(file_path, newline='', encoding='utf8') as tsvfile:\n",
    "    reader = csv.DictReader(tsvfile, delimiter='\\t')\n",
    "    index = 1\n",
    "    if (convert and verbose):\n",
    "        print(\"Converting audio samples from mp3 to wav\")\n",
    "    for row, _ in zip(reader, tqdm(range(length))):\n",
    "        file_name = row['path']\n",
    "        new_file_name = file_name.rpartition('.')[0] + \".wav\"\n",
    "        text = row['sentence']\n",
    "        data.append({\n",
    "            \"key\": directory + '/wav/' + new_file_name,\n",
    "            \"text\": text\n",
    "        })\n",
    "        if convert:\n",
    "            src = directory + '/clips/' + file_name\n",
    "            dst = save_path + '/wav/' + new_file_name\n",
    "            sound = AudioSegment.from_mp3(src)\n",
    "            sound.export(dst, format='wav')"
   ]
  },
  {
   "cell_type": "markdown",
   "id": "13ba0b36-cea0-46d9-b31d-899e2657b644",
   "metadata": {},
   "source": [
    "### Write JSON files\n",
    "We create two files, `train.json` and `test.json`, that contain the mp3/text pairs."
   ]
  },
  {
   "cell_type": "code",
   "execution_count": 5,
   "id": "938ec7ed-ee81-4de2-a9d6-1c9891c6091a",
   "metadata": {},
   "outputs": [
    {
     "name": "stdout",
     "output_type": "stream",
     "text": [
      "Creating JSONs\n",
      "Done!\n"
     ]
    }
   ],
   "source": [
    "random.shuffle(data)\n",
    "print(\"Creating JSONs\")\n",
    "\n",
    "f = open(save_path + '/train.json', 'w')\n",
    "\n",
    "with open(save_path + '/train.json', 'w') as f:\n",
    "    d = len(data)\n",
    "    i = 0\n",
    "    while(i < int(d-d/split_percent)):\n",
    "        r = data[i]\n",
    "        line = json.dumps(r)\n",
    "        f.write(line + '\\n')\n",
    "        i += 1\n",
    "\n",
    "f = open(save_path + '/test.json', 'w')\n",
    "\n",
    "with open(save_path + '/test.json', 'w') as f:\n",
    "    d = len(data)\n",
    "    i = int(d-d/split_percent)\n",
    "    while(i<d):\n",
    "        r = data[i]\n",
    "        line = json.dumps(r)\n",
    "        f.write(line + '\\n')\n",
    "        i += 1\n",
    "\n",
    "print(\"Done!\")"
   ]
  }
 ],
 "metadata": {
  "kernelspec": {
   "display_name": "Python 3 (ipykernel)",
   "language": "python",
   "name": "python3"
  },
  "language_info": {
   "codemirror_mode": {
    "name": "ipython",
    "version": 3
   },
   "file_extension": ".py",
   "mimetype": "text/x-python",
   "name": "python",
   "nbconvert_exporter": "python",
   "pygments_lexer": "ipython3",
   "version": "3.10.5"
  },
  "widgets": {
   "application/vnd.jupyter.widget-state+json": {
    "state": {},
    "version_major": 2,
    "version_minor": 0
   }
  }
 },
 "nbformat": 4,
 "nbformat_minor": 5
}
