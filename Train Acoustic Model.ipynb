{
 "cells": [
  {
   "cell_type": "markdown",
   "id": "1859efbd-8990-4d8f-a766-443e8a140e67",
   "metadata": {},
   "source": [
    "# Training Notebook\n",
    "Notebook for training the acoustic model of my speech 2 text AI.\n",
    "### To-Do\n",
    "* Build data loaders\n",
    "* Write code to convert wav to log mel spectrograms > separate module\n",
    "* Add SpecAugment to improve training\n",
    "* Build acoustic model > separate module\n",
    "* Training loop\n",
    "* Validation loop\n",
    "* Training visualization"
   ]
  },
  {
   "cell_type": "code",
   "execution_count": 1,
   "id": "94859ed4-d06d-437a-bc5c-7aa37b21c755",
   "metadata": {},
   "outputs": [],
   "source": [
    "import torch\n",
    "import torchaudio\n",
    "import torch.nn as nn\n",
    "import pandas as pd\n",
    "import numpy as np\n",
    "import utilities"
   ]
  },
  {
   "cell_type": "code",
   "execution_count": 2,
   "id": "d8a5a35c-bc8a-4a39-811a-5beb5cd9be5d",
   "metadata": {},
   "outputs": [],
   "source": [
    "class LogMelSpec(nn.Module):\n",
    "    \n",
    "    def __init__(self, sample_rate=8000, n_mels=128, win_length=160, hop_length=80):\n",
    "        super(LogMelSpec, self).__init__()\n",
    "        self.transform = torchaudio.transforms.MelSpectrogram(\n",
    "                            sample_rate=sample_rate, n_mels=n_mels,\n",
    "                            win_length=win_length, hop_length=hop_length)\n",
    "        \n",
    "    def forward(self, x):\n",
    "        x = self.transform(x) # mel spectrogram\n",
    "        x = np.log(x + 1e-14) # logarithm, add small value to avoid divergence\n",
    "        return x"
   ]
  },
  {
   "cell_type": "code",
   "execution_count": 65,
   "id": "12c2340f-86e4-48d5-aece-9a7d69ba3e33",
   "metadata": {},
   "outputs": [],
   "source": [
    "class DataLoader(torch.utils.data.Dataset):\n",
    "        \n",
    "    def __init__(self, json_path, sample_rate, n_feats, specaug_rate, specaug_policy, time_mask, freq_mask,\n",
    "                 valid=False, shuffle=True, text_to_int=True, log_ex=True):\n",
    "        self.log_ex = log_ex\n",
    "        self.text_process = utilities.TextProcess()\n",
    "        \n",
    "        print(\"Loading data json file from\", json_path)\n",
    "        self.data = pd.read_json(json_path, lines=True)\n",
    "        \n",
    "        if valid: # \n",
    "            self.audio_transforms = torch.nn.Sequential(\n",
    "                LogMelSpec(sample_rate=sample_rate, n_mels=n_feats, win_length=160, hop_length=80)\n",
    "            )\n",
    "            \n",
    "        else:\n",
    "            self.audio_transforms = torch.nn.Sequential(\n",
    "                LogMelSpec(sample_rate=sample_rate, n_mels=n_feats, win_length=160, hop_length=80),\n",
    "                #SpecAugment(specaug_rate, specaug_policy, freq_mask, time_mask) # To-do: Add spec augment\n",
    "            ) \n",
    "            \n",
    "    def __len__(self):\n",
    "        return len(self.data)\n",
    "    \n",
    "    def __getitem__(self, idx):\n",
    "        if torch.is_tensor(idx):\n",
    "            idx = idx.item()\n",
    "        \n",
    "        try:\n",
    "            file_path = self.data.key.iloc[idx]\n",
    "            print(\"file_path: \" + file_path)\n",
    "            waveform, _ = torchaudio.load(file_path)\n",
    "            print(self.data['text2'].iloc[idx])\n",
    "            label = self.text_process.text_to_int_seq(self.data['text2'].iloc[idx])\n",
    "            spectrogram = self.audio_transforms(waveform) # (channel, feature, time)\n",
    "            spec_len = spectrogram.shape[-1] // 2\n",
    "            label_len = len(label)\n",
    "            if spec_len < label_len:\n",
    "                raise Exception('spectrogram len is bigger then label len')\n",
    "            if spectrogram.shape[0] > 1:\n",
    "                raise Exception('dual channel, skipping audio file %s'%file_path)\n",
    "            #if spectrogram.shape[2] > 1650:\n",
    "            #    raise Exception('spectrogram too big. size %s'%spectrogram.shape[2])\n",
    "            if label_len == 0:\n",
    "                raise Exception('label len is zero... skipping %s'%file_path)\n",
    "        except Exception as e:\n",
    "            if self.log_ex:\n",
    "                print(str(e), file_path)\n",
    "            return self.__getitem__(idx - 1 if idx != 0 else idx + 1)  \n",
    "                \n",
    "        return spectrogram, label, spec_len, label_len\n",
    "   \n",
    "    def describe(self):\n",
    "        return self.data.describe()"
   ]
  },
  {
   "cell_type": "code",
   "execution_count": 66,
   "id": "121f1ca3-2320-40d4-b925-cf509804a7e6",
   "metadata": {},
   "outputs": [
    {
     "name": "stdout",
     "output_type": "stream",
     "text": [
      "Loading data json file from F:/cv-corpus-11.0-2022-09-21/en/test.json\n"
     ]
    }
   ],
   "source": [
    "path = 'F:/cv-corpus-11.0-2022-09-21/en/test.json'\n",
    "\n",
    "sample_rate = 8000\n",
    "n_feats = 81\n",
    "specaug_rate = 0.5\n",
    "specaug_policy = 3\n",
    "time_mask = 70\n",
    "freq_mask = 15\n",
    "\n",
    "data_loader = DataLoader(path, sample_rate, n_feats, specaug_rate, specaug_policy, time_mask, freq_mask)"
   ]
  },
  {
   "cell_type": "code",
   "execution_count": 68,
   "id": "af058dbd-769b-43f9-939e-64ff9233871a",
   "metadata": {},
   "outputs": [
    {
     "name": "stdout",
     "output_type": "stream",
     "text": [
      "file_path: F:/cv-corpus-11.0-2022-09-21/en/wav/common_voice_en_22917213.wav\n",
      "the city of manningham encompasses two victorian state electorates\n"
     ]
    },
    {
     "data": {
      "text/plain": [
       "(tensor([[[-32.2362, -32.2362, -32.2362,  ..., -32.2362, -32.2362, -32.2362],\n",
       "          [-32.2362, -32.2362, -32.2362,  ..., -32.2362, -32.2362, -32.2362],\n",
       "          [-32.2362, -32.2362, -32.2362,  ..., -32.2362, -32.2362, -32.2362],\n",
       "          ...,\n",
       "          [-32.2362, -32.2362, -32.2362,  ..., -32.2362, -32.2362, -32.2362],\n",
       "          [-32.2362, -32.2362, -32.2362,  ..., -32.2362, -32.2362, -32.2362],\n",
       "          [-32.2362, -32.2362, -32.2362,  ..., -32.2362, -32.2362, -32.2362]]]),\n",
       " [21,\n",
       "  9,\n",
       "  6,\n",
       "  1,\n",
       "  4,\n",
       "  10,\n",
       "  21,\n",
       "  26,\n",
       "  1,\n",
       "  16,\n",
       "  7,\n",
       "  1,\n",
       "  14,\n",
       "  2,\n",
       "  15,\n",
       "  15,\n",
       "  10,\n",
       "  15,\n",
       "  8,\n",
       "  9,\n",
       "  2,\n",
       "  14,\n",
       "  1,\n",
       "  6,\n",
       "  15,\n",
       "  4,\n",
       "  16,\n",
       "  14,\n",
       "  17,\n",
       "  2,\n",
       "  20,\n",
       "  20,\n",
       "  6,\n",
       "  20,\n",
       "  1,\n",
       "  21,\n",
       "  24,\n",
       "  16,\n",
       "  1,\n",
       "  23,\n",
       "  10,\n",
       "  4,\n",
       "  21,\n",
       "  16,\n",
       "  19,\n",
       "  10,\n",
       "  2,\n",
       "  15,\n",
       "  1,\n",
       "  20,\n",
       "  21,\n",
       "  2,\n",
       "  21,\n",
       "  6,\n",
       "  1,\n",
       "  6,\n",
       "  13,\n",
       "  6,\n",
       "  4,\n",
       "  21,\n",
       "  16,\n",
       "  19,\n",
       "  2,\n",
       "  21,\n",
       "  6,\n",
       "  20],\n",
       " 2275,\n",
       " 66)"
      ]
     },
     "execution_count": 68,
     "metadata": {},
     "output_type": "execute_result"
    }
   ],
   "source": [
    "data_loader"
   ]
  },
  {
   "cell_type": "code",
   "execution_count": null,
   "id": "39148aa4-f164-4b72-aeb3-7e58eb4a4837",
   "metadata": {},
   "outputs": [],
   "source": []
  }
 ],
 "metadata": {
  "kernelspec": {
   "display_name": "Python 3 (ipykernel)",
   "language": "python",
   "name": "python3"
  },
  "language_info": {
   "codemirror_mode": {
    "name": "ipython",
    "version": 3
   },
   "file_extension": ".py",
   "mimetype": "text/x-python",
   "name": "python",
   "nbconvert_exporter": "python",
   "pygments_lexer": "ipython3",
   "version": "3.10.5"
  }
 },
 "nbformat": 4,
 "nbformat_minor": 5
}
