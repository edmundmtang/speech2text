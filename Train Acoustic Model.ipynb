{
 "cells": [
  {
   "cell_type": "markdown",
   "id": "1859efbd-8990-4d8f-a766-443e8a140e67",
   "metadata": {},
   "source": [
    "# Training Notebook\n",
    "Notebook for training the acoustic model of my speech 2 text AI.\n",
    "### To-Do\n",
    "* [x] Build data loaders\n",
    "* [x] Write code to convert wav to log mel spectrograms\n",
    "* [ ] Add SpecAugment to improve training\n",
    "* [ ] Move spectrogram conversion and SpecAugment to separate module\n",
    "* [x] Build acoustic model\n",
    "* [ ] Move acoustic model to a separate module\n",
    "* [ ] Training loop\n",
    "* [ ] Validation loop\n",
    "* [ ] Perform training\n",
    "* [ ] Training visualization\n",
    "### Post-Acoustic Model\n",
    "* [ ] Implement beam search or similar algorithm\n",
    "* [ ] Add Language model (character-level LM?) "
   ]
  },
  {
   "cell_type": "code",
   "execution_count": 1,
   "id": "94859ed4-d06d-437a-bc5c-7aa37b21c755",
   "metadata": {},
   "outputs": [],
   "source": [
    "import torch\n",
    "import torchaudio\n",
    "import torch.nn as nn\n",
    "from torch.nn import functional as F\n",
    "import torch.optim as optim\n",
    "import pandas as pd\n",
    "import numpy as np\n",
    "from torch.utils.data import DataLoader\n",
    "from tqdm.notebook import tqdm\n",
    "import matplotlib.pyplot as plt\n",
    "import utilities"
   ]
  },
  {
   "cell_type": "markdown",
   "id": "e5f7f997-ca16-4690-b394-d051d5f31726",
   "metadata": {},
   "source": [
    "### Multithreading in Notebook\n",
    "Apparently there is a limitation with pytorch multithreading in notebooks that causes the notebook to hang if `num_"
   ]
  },
  {
   "cell_type": "markdown",
   "id": "550fd3f5-80a2-4551-a3f4-12b5507cefb5",
   "metadata": {},
   "source": [
    "### Hyper Parameters"
   ]
  },
  {
   "cell_type": "code",
   "execution_count": 2,
   "id": "30a7151d-18f1-4f24-bb64-4a06ad63319f",
   "metadata": {},
   "outputs": [],
   "source": [
    "num_classes = 28\n",
    "# n_feats = 81 # decided earlier based on how mel spectrograms were generated\n",
    "dropout = 0.1\n",
    "dense_size = 128\n",
    "hidden_size = 1024\n",
    "num_layers = 1\n",
    "\n",
    "batch_size = 16\n",
    "learning_rate = 0.001\n",
    "num_workers = 0"
   ]
  },
  {
   "cell_type": "markdown",
   "id": "eb5d3fb3-4833-4277-ab4a-87fc6d15bd4e",
   "metadata": {},
   "source": [
    "## Build Data Loaders\n",
    "Data loaders will be necessary to manage data when running training."
   ]
  },
  {
   "cell_type": "code",
   "execution_count": 3,
   "id": "d8a5a35c-bc8a-4a39-811a-5beb5cd9be5d",
   "metadata": {},
   "outputs": [],
   "source": [
    "class LogMelSpec(nn.Module):\n",
    "    \n",
    "    def __init__(self, sample_rate=8000, n_mels=128, win_length=160, hop_length=80):\n",
    "        super(LogMelSpec, self).__init__()\n",
    "        self.transform = torchaudio.transforms.MelSpectrogram(\n",
    "                            sample_rate=sample_rate, n_mels=n_mels,\n",
    "                            win_length=win_length, hop_length=hop_length)\n",
    "        \n",
    "    def forward(self, x):\n",
    "        x = self.transform(x) # mel spectrogram\n",
    "        x = np.log(x + 1e-14) # logarithm, add small value to avoid divergence\n",
    "        return x"
   ]
  },
  {
   "cell_type": "code",
   "execution_count": 4,
   "id": "12c2340f-86e4-48d5-aece-9a7d69ba3e33",
   "metadata": {},
   "outputs": [],
   "source": [
    "class DataSet(torch.utils.data.Dataset):\n",
    "        \n",
    "    def __init__(self, json_path, sample_rate, n_feats, specaug_rate, specaug_policy, time_mask, freq_mask,\n",
    "                 valid=False, shuffle=True, text_to_int=True, log_ex=True):\n",
    "        self.log_ex = log_ex\n",
    "        self.text_process = utilities.TextProcess()\n",
    "        \n",
    "        print(\"Loading data json file from\", json_path)\n",
    "        self.data = pd.read_json(json_path, lines=True)\n",
    "        \n",
    "        if valid: # \n",
    "            self.audio_transforms = torch.nn.Sequential(\n",
    "                LogMelSpec(sample_rate=sample_rate, n_mels=n_feats, win_length=160, hop_length=80)\n",
    "            )\n",
    "            \n",
    "        else:\n",
    "            self.audio_transforms = torch.nn.Sequential(\n",
    "                LogMelSpec(sample_rate=sample_rate, n_mels=n_feats, win_length=160, hop_length=80),\n",
    "                #SpecAugment(specaug_rate, specaug_policy, freq_mask, time_mask) # To-do: Add spec augment\n",
    "            ) \n",
    "            \n",
    "    def __len__(self):\n",
    "        return len(self.data)\n",
    "    \n",
    "    def __getitem__(self, idx):\n",
    "        if torch.is_tensor(idx):\n",
    "            idx = idx.item()\n",
    "        \n",
    "        try:\n",
    "            file_path = self.data.key.iloc[idx]\n",
    "            waveform, _ = torchaudio.load(file_path)\n",
    "            label = self.text_process.text_to_int_seq(self.data['text2'].iloc[idx])\n",
    "            spectrogram = self.audio_transforms(waveform) # (channel, feature, time)\n",
    "            spec_len = spectrogram.shape[-1] // 2\n",
    "            label_len = len(label)\n",
    "            if spec_len < label_len:\n",
    "                raise Exception('spectrogram len is bigger then label len')\n",
    "            if spectrogram.shape[0] > 1:\n",
    "                raise Exception('dual channel, skipping audio file %s'%file_path)\n",
    "            #if spectrogram.shape[2] > 1650:\n",
    "            #    raise Exception('spectrogram too big. size %s'%spectrogram.shape[2])\n",
    "            if label_len == 0:\n",
    "                raise Exception('label len is zero... skipping %s'%file_path)\n",
    "        except Exception as e:\n",
    "            if self.log_ex:\n",
    "                print(str(e), file_path)\n",
    "            return self.__getitem__(idx - 1 if idx != 0 else idx + 1)  \n",
    "                \n",
    "        return spectrogram, label, spec_len, label_len\n",
    "   \n",
    "    def describe(self):\n",
    "        return self.data.describe()\n",
    "    \n",
    "def collate_fn_padd(data):\n",
    "    '''\n",
    "    Padds batch of variable length\n",
    "    \n",
    "    note: it converts things ToTensor manually here since the ToTensor transform\n",
    "    assume it takes in images rather than arbitary tensors\n",
    "    '''\n",
    "    spectrograms = []\n",
    "    labels = []\n",
    "    input_lens = []\n",
    "    label_lens = []\n",
    "    for (spectrogram, label, input_len, label_len) in data:\n",
    "        if spectrogram is None:\n",
    "            continue\n",
    "        spectrograms.append(spectrogram.squeeze(0).transpose(0,1))\n",
    "        labels.append(torch.Tensor(label))\n",
    "        input_lens.append(input_len)\n",
    "        label_lens.append(label_len)\n",
    "        \n",
    "    spectrograms = nn.utils.rnn.pad_sequence(spectrograms, batch_first=True).unsqueeze(1).transpose(2,3)\n",
    "    labels = nn.utils.rnn.pad_sequence(labels, batch_first=True)\n",
    "    input_lens = input_lens\n",
    "    label_lens = label_lens\n",
    "    \n",
    "    return spectrograms, labels, input_lens, label_lens"
   ]
  },
  {
   "cell_type": "markdown",
   "id": "6f9f7298-628a-4e58-9a2b-dc4efbb7ba19",
   "metadata": {},
   "source": [
    "### Data Parameters"
   ]
  },
  {
   "cell_type": "code",
   "execution_count": 5,
   "id": "121f1ca3-2320-40d4-b925-cf509804a7e6",
   "metadata": {},
   "outputs": [
    {
     "name": "stdout",
     "output_type": "stream",
     "text": [
      "Loading data json file from F:/cv-corpus-11.0-2022-09-21/en/train.json\n",
      "Loading data json file from F:/cv-corpus-11.0-2022-09-21/en/test.json\n"
     ]
    }
   ],
   "source": [
    "sample_rate = 8000\n",
    "n_feats = 81\n",
    "specaug_rate = 0.5\n",
    "specaug_policy = 3\n",
    "time_mask = 70\n",
    "freq_mask = 15\n",
    "\n",
    "train_path = 'F:/cv-corpus-11.0-2022-09-21/en/train.json'\n",
    "train_dataset = DataSet(train_path, sample_rate, n_feats, specaug_rate, specaug_policy, time_mask, freq_mask)\n",
    "\n",
    "test_path = 'F:/cv-corpus-11.0-2022-09-21/en/test.json'\n",
    "val_dataset = DataSet(test_path, sample_rate, n_feats, specaug_rate, specaug_policy, time_mask, freq_mask)"
   ]
  },
  {
   "cell_type": "code",
   "execution_count": 6,
   "id": "bafbf660-df3b-4476-89d0-3057531029bc",
   "metadata": {},
   "outputs": [],
   "source": [
    "train_loader = DataLoader(dataset=train_dataset,\n",
    "                          batch_size=batch_size,\n",
    "                          num_workers=num_workers,\n",
    "                          collate_fn=collate_fn_padd,\n",
    "                          pin_memory = True)\n",
    "val_loader = DataLoader(dataset=val_dataset,\n",
    "                          batch_size=batch_size,\n",
    "                          num_workers=num_workers,\n",
    "                          collate_fn=collate_fn_padd,\n",
    "                          pin_memory = True)"
   ]
  },
  {
   "cell_type": "code",
   "execution_count": 7,
   "id": "23f94442-6a7a-41aa-9ed9-f52ee36bb9b0",
   "metadata": {},
   "outputs": [
    {
     "data": {
      "text/plain": [
       "853579"
      ]
     },
     "execution_count": 7,
     "metadata": {},
     "output_type": "execute_result"
    }
   ],
   "source": [
    "len(train_dataset)"
   ]
  },
  {
   "cell_type": "markdown",
   "id": "4c2b4018-6cce-4055-be18-deeffdadf16e",
   "metadata": {
    "tags": []
   },
   "source": [
    "### Visualizing Distribution of Spectrogram and Label Lengths\n",
    "Plot a subsample of the lengths of the spectrograms and labels to get a sense of how long the data is. We then choose maximums that encompass most (but not necessarily all) of the data."
   ]
  },
  {
   "cell_type": "code",
   "execution_count": 8,
   "id": "dac9e6c6-1c7a-4032-9bd1-8972ccd669d1",
   "metadata": {},
   "outputs": [
    {
     "data": {
      "application/json": {
       "ascii": false,
       "bar_format": null,
       "colour": null,
       "elapsed": 0.03796100616455078,
       "initial": 0,
       "n": 0,
       "ncols": null,
       "nrows": 39,
       "postfix": null,
       "prefix": "",
       "rate": null,
       "total": 1000,
       "unit": "it",
       "unit_divisor": 1000,
       "unit_scale": false
      },
      "application/vnd.jupyter.widget-view+json": {
       "model_id": "2ae56f51999241129744ea023a6e7241",
       "version_major": 2,
       "version_minor": 0
      },
      "text/plain": [
       "  0%|          | 0/1000 [00:00<?, ?it/s]"
      ]
     },
     "metadata": {},
     "output_type": "display_data"
    },
    {
     "data": {
      "image/png": "[encoded data removed]",
      "text/plain": [
       "<Figure size 1080x360 with 2 Axes>"
      ]
     },
     "metadata": {
      "needs_background": "light"
     },
     "output_type": "display_data"
    }
   ],
   "source": [
    "if True:\n",
    "    spec_len_list = []\n",
    "    label_len_list = []\n",
    "    for i in tqdm(range(1000)):\n",
    "        spec_len_list.append(val_dataset[i][2]);\n",
    "        label_len_list.append(val_dataset[i][3]);\n",
    "\n",
    "    fig1, (ax1, ax2) = plt.subplots(nrows=1,ncols=2, figsize=(15,5))\n",
    "    ax1.hist(spec_len_list, bins=15);\n",
    "    ax1.set_title('spec len');\n",
    "    ax2.hist(label_len_list, bins=15)\n",
    "    ax2.set_title('label len');"
   ]
  },
  {
   "cell_type": "code",
   "execution_count": 9,
   "id": "635ef7a4-cb67-4335-ab24-a48cb79f8dd7",
   "metadata": {},
   "outputs": [],
   "source": [
    "max_spec_len = 0\n",
    "max_label_len = 0\n",
    "\n",
    "check_max = False\n",
    "\n",
    "if check_max:\n",
    "    for i in tqdm(range(len(test_set))):\n",
    "        max_spec_len = max(max_spec_len, val_dataset[i][2])\n",
    "        max_label_len = max(max_label_len, val_dataset[i][3])\n",
    "\n",
    "    print(\"max_spec_len: \", max_spec_len)\n",
    "    print(\"max_label_len: \", max_label_len)\n",
    "\n",
    "else:\n",
    "    max_spec_len = 4096\n",
    "    max_label_len = 256"
   ]
  },
  {
   "cell_type": "markdown",
   "id": "cfd01309-a4e9-4e0c-b8db-16289641cbd4",
   "metadata": {},
   "source": [
    "### Visualizing Log-Mel Spectrograms\n",
    "Plotting the log of the Mel spectrograms of the dataset. Confirming that the audio data is being converted."
   ]
  },
  {
   "cell_type": "code",
   "execution_count": 10,
   "id": "662296e7-ca9a-4f4f-a99a-fd06d25cce13",
   "metadata": {},
   "outputs": [],
   "source": [
    "import librosa\n",
    "\n",
    "def plot_spectrogram(spec, title=None, ylabel='Log Frequency', aspect='auto'):\n",
    "    fig, axs = plt.subplots()\n",
    "    axs.set_title(title)\n",
    "    axs.set_ylabel(ylabel)\n",
    "    axs.set_xlabel(\"frame\")\n",
    "    spec = librosa.power_to_db(spec)\n",
    "    im = axs.imshow(spec, origin=\"lower\", aspect=aspect)\n",
    "    fig.colorbar(im, ax=axs)\n",
    "    plt.show(block=False)"
   ]
  },
  {
   "cell_type": "code",
   "execution_count": 11,
   "id": "e5ffecb9-91cb-43c9-82ec-570d2275ba7a",
   "metadata": {},
   "outputs": [
    {
     "data": {
      "image/png": "[encoded data removed]",
      "text/plain": [
       "<Figure size 432x288 with 2 Axes>"
      ]
     },
     "metadata": {
      "needs_background": "light"
     },
     "output_type": "display_data"
    },
    {
     "name": "stdout",
     "output_type": "stream",
     "text": [
      "the school opened its doors for boys and girls\n"
     ]
    },
    {
     "data": {
      "image/png": "[encoded data removed]",
      "text/plain": [
       "<Figure size 432x288 with 2 Axes>"
      ]
     },
     "metadata": {
      "needs_background": "light"
     },
     "output_type": "display_data"
    },
    {
     "name": "stdout",
     "output_type": "stream",
     "text": [
      "you must find a can of worms to get this power up\n"
     ]
    }
   ],
   "source": [
    "idx = 0\n",
    "plot_spectrogram(val_dataset[idx][0][0], title=\"Log Mel Spectrogram\")\n",
    "print(val_dataset.text_process.int_to_text_seq(val_dataset[idx][1]))\n",
    "idx = 1024\n",
    "plot_spectrogram(val_dataset[idx][0][0], title=\"Log Mel Spectrogram\")\n",
    "print(val_dataset.text_process.int_to_text_seq(val_dataset[idx][1]))"
   ]
  },
  {
   "cell_type": "markdown",
   "id": "d3d2dd9d-63b7-45e9-af1f-32186d5fd19d",
   "metadata": {},
   "source": [
    "## Build Model\n",
    "Build the neural network for the acoustic model."
   ]
  },
  {
   "cell_type": "markdown",
   "id": "7a7c002e-daa8-4db9-980a-fbbcbd9f171d",
   "metadata": {},
   "source": [
    "### Model"
   ]
  },
  {
   "cell_type": "code",
   "execution_count": 12,
   "id": "6fd4402f-4b8c-4521-91e9-2891b8f37d6d",
   "metadata": {},
   "outputs": [],
   "source": [
    "class DropNormCNN1D(nn.Module):\n",
    "    def __init__(self, n_feats, dropout, keep_shape=False):\n",
    "        super(DropNormCNN1D, self).__init__()\n",
    "        self.dropout = nn.Dropout(dropout)\n",
    "        self.norm = nn.LayerNorm(n_feats)\n",
    "        self.keep_shape = keep_shape\n",
    "        \n",
    "    def forward(self, x):\n",
    "        x = x.transpose(1, 2)\n",
    "        x = self.norm(x)\n",
    "        x = F.gelu(x)\n",
    "        x = self.dropout(x)\n",
    "        if self.keep_shape:\n",
    "            return x.transpose(1,2)\n",
    "        else:\n",
    "            return x\n",
    "\n",
    "class AcousticModel(nn.Module):\n",
    "    def __init__(self, hidden_size, num_classes, n_feats, dense_size, num_layers, dropout):\n",
    "        super(AcousticModel, self).__init__()\n",
    "        self.num_layers = num_layers\n",
    "        self.hidden_size = hidden_size\n",
    "        self.cnn = nn.Sequential(\n",
    "            nn.Conv1d(n_feats, n_feats, 10, 2, padding=10//2),\n",
    "            DropNormCNN1D(n_feats, dropout),\n",
    "        )\n",
    "        self.dense = nn.Sequential(\n",
    "            nn.Linear(n_feats, dense_size),\n",
    "            nn.LayerNorm(dense_size),\n",
    "            nn.GELU(),\n",
    "            nn.Dropout(dropout),\n",
    "            nn.Linear(dense_size, dense_size),\n",
    "            nn.LayerNorm(dense_size),\n",
    "            nn.GELU(),\n",
    "            nn.Dropout(dropout),\n",
    "        )\n",
    "        self.lstm = nn.LSTM(input_size=dense_size, hidden_size=hidden_size,\n",
    "                            num_layers=num_layers, dropout = 0.0,\n",
    "                            bidirectional = False)\n",
    "        self.layer_norm2 = nn.LayerNorm(hidden_size)\n",
    "        self.dropout2 = nn.Dropout(dropout)\n",
    "        self.final_fc = nn.Linear(hidden_size, num_classes)\n",
    "        \n",
    "    def _init_hidden(self, batch_size):\n",
    "        n, hs = self.num_layers, self.hidden_size\n",
    "        return (torch.zeros(n*1, batch_size, hs),\n",
    "                torch.zeros(n*1, batch_size, hs))\n",
    "    \n",
    "    def forward(self, x, hidden):\n",
    "        x = x.squeeze(1) # batch, feature, time\n",
    "        x = self.cnn(x) # batch, time, feature\n",
    "        x = self.dense(x) # batch, time, feature\n",
    "        x = x.transpose(0, 1) # time, batch, feature\n",
    "        out, (hn, cn) = self.lstm(x, hidden) # note hidden = (h0, c0)\n",
    "        x = self.layer_norm2(out)\n",
    "        x = F.gelu(x)\n",
    "        x = self.dropout2(x) # time, batch, n_class\n",
    "        return self.final_fc(x), (hn, cn)"
   ]
  },
  {
   "cell_type": "code",
   "execution_count": 13,
   "id": "c81c3932-bd44-466d-a5a4-46eb11bcb6ca",
   "metadata": {},
   "outputs": [],
   "source": [
    "model = AcousticModel(hidden_size, num_classes, n_feats, dense_size, num_layers, dropout)"
   ]
  },
  {
   "cell_type": "markdown",
   "id": "90ed745f-9e34-4076-bc1e-60b6579f99f5",
   "metadata": {},
   "source": [
    "## Trainer\n",
    "Set up loss function, optimizer, and training loop."
   ]
  },
  {
   "cell_type": "code",
   "execution_count": 14,
   "id": "2f67e3c6-bb97-44ab-b6ef-a18b351cf501",
   "metadata": {},
   "outputs": [],
   "source": [
    "loss_fn = nn.CTCLoss(blank=27, zero_infinity=True)"
   ]
  },
  {
   "cell_type": "code",
   "execution_count": 15,
   "id": "7fe9e690-d96e-42a7-8e6d-8bec37b9570e",
   "metadata": {},
   "outputs": [],
   "source": [
    "optimizer = optim.AdamW(model.parameters(), learning_rate)"
   ]
  },
  {
   "cell_type": "code",
   "execution_count": 16,
   "id": "fc9f8897-7ce8-4ef9-b8f8-4c50355abd18",
   "metadata": {},
   "outputs": [],
   "source": [
    "def train_one_epoch(model, train_loader, loss_fn, optimizer, epoch_index, batch_list, loss_list, batches=100):\n",
    "    running_loss = 0.\n",
    "    last_loss = 0.\n",
    "    i = 0\n",
    "    \n",
    "    for data in tqdm(train_loader):\n",
    "        spectrograms, labels, input_lens, label_lens = data\n",
    "        bs = spectrograms.shape[0]\n",
    "        hidden = model._init_hidden(bs)\n",
    "        hn, c0 = hidden[0], hidden[1]\n",
    "        \n",
    "        # zero gradients for every batch\n",
    "        optimizer.zero_grad()\n",
    "        \n",
    "        # make predictions for this batch\n",
    "        outputs, _ = model(spectrograms, (hn, c0))\n",
    "        outputs = F.log_softmax(outputs, dim=2)\n",
    "        \n",
    "        # compute loss and its gradients\n",
    "        loss = loss_fn(outputs, labels, input_lens, label_lens)\n",
    "        loss.backward()\n",
    "        \n",
    "        # adjust learning weights\n",
    "        optimizer.step()\n",
    "        \n",
    "        # gather data and report\n",
    "        running_loss += loss.item()\n",
    "        if i % batches == batches-1:\n",
    "            last_loss = running_loss / batches # loss per batch\n",
    "            print('Batch {} loss: {}'.format(i + 1, last_loss))\n",
    "            batch_list.append(epoch_index*len(train_loader) + i + 1)\n",
    "            loss_list.append(last_loss)\n",
    "            running_loss = 0\n",
    "            \n",
    "        i += 1"
   ]
  },
  {
   "cell_type": "markdown",
   "id": "b0caff7a-eaf3-445e-ac10-5a3a85fcf49d",
   "metadata": {
    "tags": []
   },
   "source": [
    "batch_list = []\n",
    "loss_list = []\n",
    "train_one_epoch(model, train_loader, loss_fn, optimizer, 0, batch_list, loss_list, batches = 1)"
   ]
  },
  {
   "cell_type": "code",
   "execution_count": null,
   "id": "6fb04514-5606-413f-996f-6b9a696f0970",
   "metadata": {},
   "outputs": [],
   "source": []
  }
 ],
 "metadata": {
  "kernelspec": {
   "display_name": "Python 3 (ipykernel)",
   "language": "python",
   "name": "python3"
  },
  "language_info": {
   "codemirror_mode": {
    "name": "ipython",
    "version": 3
   },
   "file_extension": ".py",
   "mimetype": "text/x-python",
   "name": "python",
   "nbconvert_exporter": "python",
   "pygments_lexer": "ipython3",
   "version": "3.10.5"
  },
  "toc-autonumbering": false,
  "toc-showcode": false,
  "toc-showmarkdowntxt": false
 },
 "nbformat": 4,
 "nbformat_minor": 5
}
