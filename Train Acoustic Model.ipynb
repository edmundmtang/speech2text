{
 "cells": [
  {
   "cell_type": "markdown",
   "id": "1859efbd-8990-4d8f-a766-443e8a140e67",
   "metadata": {},
   "source": [
    "# Training Notebook\n",
    "Notebook for training the acoustic model of my speech 2 text AI.\n",
    "### To-Do\n",
    "* Build data loaders\n",
    "* Write code to convert wav to log mel spectrograms > separate module\n",
    "* Add SpecAugment to improve training\n",
    "* Build acoustic model > separate module\n",
    "* Training loop\n",
    "* Validation loop\n",
    "* Training visualization"
   ]
  },
  {
   "cell_type": "code",
   "execution_count": 1,
   "id": "94859ed4-d06d-437a-bc5c-7aa37b21c755",
   "metadata": {},
   "outputs": [],
   "source": [
    "import torch\n",
    "import torchaudio\n",
    "import torch.nn as nn\n",
    "import pandas as pd\n",
    "import numpy as np\n",
    "import utilities"
   ]
  },
  {
   "cell_type": "code",
   "execution_count": 2,
   "id": "168df3c4-4367-48a0-afd5-92915d8068dc",
   "metadata": {},
   "outputs": [],
   "source": [
    "textprocess = utilities.TextProcess()"
   ]
  },
  {
   "cell_type": "code",
   "execution_count": 3,
   "id": "2f9dfcae-8c38-4f88-8cf2-d424a401f0b3",
   "metadata": {},
   "outputs": [
    {
     "data": {
      "text/plain": [
       "[9, 6, 13, 13, 16]"
      ]
     },
     "execution_count": 3,
     "metadata": {},
     "output_type": "execute_result"
    }
   ],
   "source": [
    "textprocess.text_to_int_seq('hello')"
   ]
  },
  {
   "cell_type": "code",
   "execution_count": 4,
   "id": "c8ecfc99-a9fd-41ef-b7a7-d5100ab006b8",
   "metadata": {},
   "outputs": [
    {
     "data": {
      "text/plain": [
       "'hello'"
      ]
     },
     "execution_count": 4,
     "metadata": {},
     "output_type": "execute_result"
    }
   ],
   "source": [
    "textprocess.int_to_text_seq([9, 6, 13, 13, 16])"
   ]
  },
  {
   "cell_type": "code",
   "execution_count": null,
   "id": "a6156675-835d-409f-8de9-3054b819d3b2",
   "metadata": {},
   "outputs": [],
   "source": []
  }
 ],
 "metadata": {
  "kernelspec": {
   "display_name": "Python 3 (ipykernel)",
   "language": "python",
   "name": "python3"
  },
  "language_info": {
   "codemirror_mode": {
    "name": "ipython",
    "version": 3
   },
   "file_extension": ".py",
   "mimetype": "text/x-python",
   "name": "python",
   "nbconvert_exporter": "python",
   "pygments_lexer": "ipython3",
   "version": "3.10.5"
  }
 },
 "nbformat": 4,
 "nbformat_minor": 5
}
